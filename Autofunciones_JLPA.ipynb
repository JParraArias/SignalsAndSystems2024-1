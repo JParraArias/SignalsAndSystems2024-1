{
  "nbformat": 4,
  "nbformat_minor": 0,
  "metadata": {
    "colab": {
      "provenance": [],
      "include_colab_link": true
    },
    "language_info": {
      "codemirror_mode": {
        "name": "ipython",
        "version": 3
      },
      "file_extension": ".py",
      "mimetype": "text/x-python",
      "name": "python",
      "nbconvert_exporter": "python",
      "pygments_lexer": "ipython3",
      "version": "3.6.4"
    },
    "kernelspec": {
      "display_name": "Python 3",
      "language": "python",
      "name": "python3"
    }
  },
  "cells": [
    {
      "cell_type": "markdown",
      "metadata": {
        "id": "view-in-github",
        "colab_type": "text"
      },
      "source": [
        "<a href=\"https://colab.research.google.com/github/JParraArias/SignalsAndSystems2024-1/blob/main/Autofunciones_JLPA.ipynb\" target=\"_parent\"><img src=\"https://colab.research.google.com/assets/colab-badge.svg\" alt=\"Open In Colab\"/></a>"
      ]
    },
    {
      "cell_type": "markdown",
      "metadata": {
        "nbsphinx": "hidden",
        "id": "buAkuZ-JvWzT"
      },
      "source": [
        "# Caracterización de sistemas en el dominio del tiempo y la transformada de Laplace\n",
        "\n",
        "*This Jupyter notebook is part of a [collection of notebooks](../index.ipynb) in the bachelors module Signals and Systems, Communications Engineering, Universität Rostock. Please direct questions and suggestions to [Sascha.Spors@uni-rostock.de](mailto:Sascha.Spors@uni-rostock.de).*"
      ]
    },
    {
      "cell_type": "markdown",
      "metadata": {
        "id": "DWtWi0EivWzZ"
      },
      "source": [
        "## Eigenfunctions - Autofunciones\n",
        "\n",
        "- Una [autofunción](https://en.wikipedia.org/wiki/Eigenfunction) (También llamada función propia) de un sistema se define como la señal de entrada $x(t)$ que produce la señal de salida $y(t)=\\mathscr{H} \\{x(t)\\}=\\lambda \\cdot x(t)$ con $\\lambda \\in \\mathbb{C}$.\n",
        "\n",
        "- El peso $\\lambda$ asociado con $x(t)$ se conoce como valor propio escalar del sistema. Por lo tanto, además de ser un factor de ponderación, una función propia no se modifica al pasar por el sistema.\n",
        "\n",
        "- Las señales exponenciales complejas $e^{st}$ con $s \\in \\mathbb{C}$ son funciones propias de un sistema lineal e invariante en el tiempo (SLIT). Esto se puede probar al aplicar las propiedades de los SLIT.\n",
        "\n",
        "- Se asume un SLIT generalizado con entrada $x(t) = e^{s t}$ y salida $y(t) = \\mathscr{H}\\{ x(t) \\}$. La respuesta del SLIT ante una entrada desplazada $x(t-\\tau) = e^{s (t-\\tau)}$ es\n",
        "\n",
        "\\begin{equation}\n",
        "y(t - \\tau) = \\mathscr{H}\\{ x(t-\\tau) \\} = \\mathscr{H}\\{ e^{-s \\tau} \\cdot e^{s t}  \\}\n",
        "\\end{equation}\n",
        "\n",
        "- Debido a la linealidad del sistema, la anterior igualdad se puede reformular así:\n",
        "\n",
        "\\begin{equation}\n",
        "y(t - \\tau) =  e^{-s \\tau} \\cdot \\mathscr{H}\\{ e^{s t}  \\} = e^{-s \\tau} \\cdot y(t)\n",
        "\\end{equation}\n",
        "\n",
        "- Por ende $y(t)=\\lambda e^{st} $, con $\\lambda = e^{-\\tau s}$."
      ]
    },
    {
      "cell_type": "markdown",
      "metadata": {
        "id": "cK7248FwvWzb"
      },
      "source": [
        "**Ejemplo**\n",
        "\n",
        "Se considera un SLIT cuya relación entrada/salida viene dada por la siguiente ecuación diferencial ordinaria (EDO) con coeficientes constantes:\n",
        "\n",
        "\\begin{equation}\n",
        "a_0 y(t) + a_1 \\frac{d y(t)}{dt} + a_2 \\frac{d^2 y(t)}{dt^2} = x(t)\n",
        "\\end{equation}\n",
        "\n",
        "Con $a_i \\in \\mathbb{R} \\quad \\forall i$.\n",
        "\n",
        "La señal de salida $y(t)$ del sistema se calcula mediante la solución explícita de la EDO para $x(t)=e^{st}$ como señal de entrada. Las constantes de integración se descartan para facilitar la ilustración."
      ]
    },
    {
      "cell_type": "code",
      "metadata": {
        "id": "6rspt7o-vWzf",
        "colab": {
          "base_uri": "https://localhost:8080/",
          "height": 56
        },
        "outputId": "3703064f-20e7-4998-c86c-95f3efb7d82c"
      },
      "source": [
        "%matplotlib inline\n",
        "import sympy as sym\n",
        "sym.init_printing()\n",
        "#definir variables\n",
        "t, s, a0, a1, a2 = sym.symbols('t s a:3')\n",
        "x = sym.exp(s * t)#entrada del sistema tipo euler compleja\n",
        "y = sym.Function('y')(t)\n",
        "#plantear EDO\n",
        "ode = sym.Eq(a0*y + a1*y.diff(t) + a2*y.diff(t,2), x)\n",
        "solution = sym.dsolve(ode)#resolver para condiciones iniciales 0\n",
        "solution.subs({'C1': 0, 'C2' : 0})"
      ],
      "execution_count": 1,
      "outputs": [
        {
          "output_type": "execute_result",
          "data": {
            "text/plain": [
              "              s⋅t       \n",
              "             ℯ          \n",
              "y(t) = ─────────────────\n",
              "                       2\n",
              "       a₀ + a₁⋅s + a₂⋅s "
            ],
            "text/latex": "$\\displaystyle y{\\left(t \\right)} = \\frac{e^{s t}}{a_{0} + a_{1} s + a_{2} s^{2}}$"
          },
          "metadata": {},
          "execution_count": 1
        }
      ]
    },
    {
      "cell_type": "markdown",
      "metadata": {
        "id": "I0bd3dz4vWzv"
      },
      "source": [
        "**Ejercicio**\n",
        "\n",
        "* Qué relación tiene $\\lambda$ con el la salida obtenida al resolver la EDO?\n",
        "* Puede generalizar sus resultados a una EDO de orden arbitrario?"
      ]
    },
    {
      "cell_type": "markdown",
      "source": [
        "**Qué relación tiene $\\lambda$ con el la salida obtenida al resolver la EDO?**"
      ],
      "metadata": {
        "id": "MKsL3u0ifuq-"
      }
    },
    {
      "cell_type": "markdown",
      "source": [
        "**Ecuación Característica:**\n",
        "La EDO se convierte en una ecuación algebraica, conocida como la ecuación característica, mediante la sustitución de una solución de la forma $ y(t) = e^{\\lambda t} $ Esta ecuación es un polinomio en $\\lambda$:\n",
        "\n",
        "\n",
        "$$a_n \\lambda^n + a_{n-1} \\lambda^{n-1} + \\cdots + a_1 \\lambda + a_0 = 0$$\n",
        "\n",
        "Las raíces $\\lambda_1, \\lambda_2, \\dots, \\lambda_n$ de esta ecuación caracterizan completamente la solución de la EDO.\n",
        "\n",
        "**Forma de la Solución General:**\n",
        "La forma de la solución general de la EDO depende de las raíces de la ecuación característica:\n",
        "\n",
        "- **Raíces Reales Distintas**: Si la ecuación característica tiene raíces reales distintas, la solución general es una combinación lineal de exponenciales:\n",
        "\n",
        "$$\n",
        "y(t) = C_1 e^{\\lambda_1 t} + C_2 e^{\\lambda_2 t} + \\cdots + C_n e^{\\lambda_n t}\n",
        "$$\n",
        "\n",
        "- **Raíces Reales Repetidas**: Si hay raíces reales repetidas, la solución incluye términos adicionales en \\(t\\) multiplicados por el exponencial correspondiente:\n",
        "\n",
        "$$\n",
        "y(t) = \\left(C_1 + C_2 t + \\cdots + C_m t^{m-1}\\right) e^{\\lambda_1 t}\n",
        "$$\n",
        "\n",
        "Esto refleja que las raíces repetidas introducen polinomios de \\(t\\) en la solución.\n",
        "\n",
        "- **Raíces Complejas Conjugadas**: Para pares de raíces complejas conjugadas \\(\\lambda = \\alpha \\pm j\\beta\\), la solución general incluye términos oscilatorios multiplicados por un exponencial:\n",
        "\n",
        "$$\n",
        "y(t) = e^{\\alpha t} \\left(C_1 \\cos(\\beta t) + C_2 \\sin(\\beta t)\\right)\n",
        "$$\n",
        "\n",
        "Aquí, $\\alpha$ y $\\beta$ definen el crecimiento o decrecimiento exponencial y la oscilación, respectivamente."
      ],
      "metadata": {
        "id": "sJb8kYxueKKG"
      }
    },
    {
      "cell_type": "markdown",
      "source": [
        "En conclusión, las raíces $λ$ de la ecuación característica definen la forma exacta de la solución de la EDO. Cada raíz $λ$ contribuye un término exponencial específico en la solución general. La naturaleza de estas raíces (reales, complejas, o repetidas) determina el comportamiento dinámico de la solución: si es oscilatoria, si exhibe crecimiento o decrecimiento exponencial, o si se incluyen términos polinomiales en caso de raíces repetidas. Este análisis de las raíces no solo es clave para comprender el comportamiento transitorio de los sistemas, sino también su estabilidad, ya que las partes reales de las raíces indican si las soluciones crecen, decrecen o permanecen estables con el tiempo."
      ],
      "metadata": {
        "id": "p81qD3O1eXBx"
      }
    },
    {
      "cell_type": "markdown",
      "source": [
        "**Puede generalizar sus resultados a una EDO de orden arbitrario?**"
      ],
      "metadata": {
        "id": "9gXMcLrbedRX"
      }
    },
    {
      "cell_type": "markdown",
      "source": [
        "**Generalización a EDOs de Orden Arbitrario:**\n",
        "\n",
        "- **Orden Arbitrario**: La misma lógica se aplica a EDOs de cualquier orden \\(n\\). La ecuación característica de orden \\(n\\) tiene hasta \\(n\\) raíces, y la solución general es una combinación lineal de términos relacionados con estas raíces.\n",
        "  \n",
        "- **Raíces y Comportamiento Dinámico**: La naturaleza de las raíces (reales, complejas, repetidas) dicta el comportamiento de la solución. Las raíces reales proporcionan términos exponenciales, las raíces complejas proporcionan términos oscilatorios, y las raíces repetidas introducen términos adicionales de \\(t\\).\n",
        "\n",
        "**Propiedades Importantes:**\n",
        "\n",
        "- **Estabilidad**: Las raíces con parte real positiva $(\\alpha > 0)$ indican un crecimiento exponencial de la solución, mientras que las raíces con parte real negativa $(\\alpha < 0)$ indican una decaída exponencial.\n",
        "\n",
        "- **Oscilaciones**: Las raíces complejas conjugadas introducen oscilaciones en la solución, que pueden ser amortiguadas o crecientes según el signo de la parte real.\n"
      ],
      "metadata": {
        "id": "SWCTH2kteh2A"
      }
    },
    {
      "cell_type": "markdown",
      "source": [
        "En conclusión, $λ$ define la forma de la solución de la EDO a través de la ecuación característica, y cada tipo de raíz contribuye de manera específica al comportamiento general de la solución. Las raíces reales generan términos exponenciales simples, mientras que las raíces complejas resultan en términos oscilatorios, combinando senos y cosenos. En el caso de raíces repetidas, se agregan términos polinomiales que modifican la estructura de la solución. Esta generalización a EDOs de orden arbitrario sigue el mismo principio fundamental: las raíces de la ecuación característica determinan la estructura y naturaleza de la solución, lo cual es vital para el análisis de sistemas físicos, ya que permite predecir tanto el comportamiento a largo plazo como las respuestas transitorias del sistema ante diversas condiciones iniciales."
      ],
      "metadata": {
        "id": "sq02p2fsek__"
      }
    },
    {
      "cell_type": "markdown",
      "metadata": {
        "id": "EQ26PD60vWzx"
      },
      "source": [
        "**Ejemplo**\n",
        "\n",
        "La siguiente EDO lineal con coeficiente dependiente del tiempo se considera como un ejemplo para un sistema lineal con variación en el tiempo:\n",
        "\n",
        "\\begin{equation}\n",
        "t \\cdot \\frac{d y(t)}{dt} = x(t)\n",
        "\\end{equation}\n",
        "\n",
        "La señal de salida $y(t)$ del sistema para una señal exponencial compleja en la entrada $x(t)=e^{st}$ se calcula al solucionar de manera explícita la EDO. Nuevamente se descartan las constantes de integración."
      ]
    },
    {
      "cell_type": "code",
      "metadata": {
        "id": "p4Cx0bm4vWzz",
        "colab": {
          "base_uri": "https://localhost:8080/",
          "height": 39
        },
        "outputId": "21557924-c36b-4868-926e-b62ba4279d95"
      },
      "source": [
        "ode = sym.Eq(t*y.diff(t), x)\n",
        "solution = sym.dsolve(ode)\n",
        "solution.subs('C1', 0)"
      ],
      "execution_count": 2,
      "outputs": [
        {
          "output_type": "execute_result",
          "data": {
            "text/plain": [
              "y(t) = Ei(s⋅t)"
            ],
            "text/latex": "$\\displaystyle y{\\left(t \\right)} = \\operatorname{Ei}{\\left(s t \\right)}$"
          },
          "metadata": {},
          "execution_count": 2
        }
      ]
    },
    {
      "cell_type": "markdown",
      "metadata": {
        "id": "6RqQu0A8vWz9"
      },
      "source": [
        "Observe que, $\\text{Ei}(\\cdot)$ denota una [integral exponencial](http://docs.sympy.org/latest/modules/functions/special.html#sympy.functions.special.error_functions.Ei). La respuesta $y(t)$ del sistema variante en el tiempo no es igual a una señal exponencial compleja ponderada ($\\lambda \\cdot e^{st}$). Se puede concluir que las exponenciales complejas no son funciones propias de este sistema particular."
      ]
    },
    {
      "cell_type": "markdown",
      "metadata": {
        "id": "R_jox20UvWz_"
      },
      "source": [
        "**Ejemplo**\n",
        "\n",
        "Un último ejemplo considera la siguiente EDO no lineal con coeficientes:\n",
        "\n",
        "\\begin{equation}\n",
        "\\left( \\frac{d y(t)}{dt} \\right)^2 = x(t)\n",
        "\\end{equation}\n",
        "\n",
        "Como ejemplo para un sistema no lineal e invariante en el tiempo. Nuevamente, la señal de salida $y(t)$ del sistema ante una señal exponencial compleja en la entrada $x(t)=e^{st}$ se calcula mediante la solución explícita de la EDO. Como antes, las constantes de integración se descartan."
      ]
    },
    {
      "cell_type": "code",
      "metadata": {
        "id": "2d9gKKJQvW0C",
        "colab": {
          "base_uri": "https://localhost:8080/",
          "height": 68
        },
        "outputId": "8e0b4ceb-e1e5-4ae5-a1d3-a35c895a59e7"
      },
      "source": [
        "ode = sym.Eq(y.diff(t)**2, x)\n",
        "solution = sym.dsolve(ode)\n",
        "solution[0].subs('C1',0)"
      ],
      "execution_count": 3,
      "outputs": [
        {
          "output_type": "execute_result",
          "data": {
            "text/plain": [
              "       ⎧      ______            \n",
              "       ⎪     ╱  s⋅t             \n",
              "       ⎪-2⋅╲╱  ℯ                \n",
              "y(t) = ⎨─────────────  for s ≠ 0\n",
              "       ⎪      s                 \n",
              "       ⎪                        \n",
              "       ⎩     -t        otherwise"
            ],
            "text/latex": "$\\displaystyle y{\\left(t \\right)} = \\begin{cases} - \\frac{2 \\sqrt{e^{s t}}}{s} & \\text{for}\\: s \\neq 0 \\\\- t & \\text{otherwise} \\end{cases}$"
          },
          "metadata": {},
          "execution_count": 3
        }
      ]
    },
    {
      "cell_type": "markdown",
      "metadata": {
        "id": "OFHuq1MZvW0N"
      },
      "source": [
        "Obviamente, para este sistema no lineal, las señales exponenciales complejas no son funciones propias."
      ]
    },
    {
      "cell_type": "markdown",
      "metadata": {
        "id": "YUZcn_o9vW0P"
      },
      "source": [
        "## Función de Transferencia\n",
        "\n",
        "El valor propio complejo $\\lambda$ caracteriza las propiedades de la transferencia de una señal exponencial compleja $e^{st} $ con una frecuencia compleja $s$ a través de un SLTI.\n",
        "\n",
        "Se denomina comúnmente como [*función de transferencia*](https://en.wikipedia.org/wiki/Transfer_function) y se denota por $H(s)=\\lambda(s)$. Usando esta definición, la señal de salida $y(t)$ de un SLIT ante una señal exponencial compleja en la entrada, se tiene que\n",
        "\n",
        "\\begin{equation}\n",
        "y(t) = \\mathscr{H} \\{ e^{st} \\} = H(s) \\cdot e^{st}\n",
        "\\end{equation}\n",
        "\n",
        "Tenga en cuenta que el concepto de función de transferencia está directamente vinculado a la linealidad y la invariancia en el tiempo de un sistema. Solo en este caso, las señales exponenciales complejas son funciones propias del sistema y $H(s)$ describe las propiedades de un SLIT con respecto a éstas.\n",
        "\n",
        "La ecuación anterior se puede reescribir en términos de la magnitud $|H(s)|$ y fase $\\varphi(s)=\\arg\\{H(s)\\}$ de la función de transferencia compleja $H(s)$\n",
        "\n",
        "\\begin{equation}\n",
        "y(t) = | H(s) | \\cdot e^{s t + j \\varphi(s)}\n",
        "\\end{equation}\n",
        "\n",
        "La magnitud $|H(s)|$ proporciona una atenuación dependiente de la frecuencia de la función propia $e^{st}$ por el sistema, mientras que $\\varphi(s)$ proporciona el cambio de fase introducido en la señal de entrada."
      ]
    },
    {
      "cell_type": "markdown",
      "metadata": {
        "id": "4P4AJvKsvW0S"
      },
      "source": [
        "## Relación entre función de transferencia y respuesta al impulso\n",
        "\n",
        "Para establecer la relación entre la función de transferencia $H(s)$ y la respuesta al impulso $h(t)$, se obtiene la salida $y(t)=\\mathscr{H}\\{x(t)\\}$ de un SLIT con señal de entrada $x(t)$, mediante la convolución de la señal de entrada con la respuesta de impulso:\n",
        "\n",
        "\\begin{equation}\n",
        "y(t) = x(t) * h(t) = \\int_{-\\infty}^{\\infty} x(t-\\tau) \\cdot h(\\tau) \\; d\\tau\n",
        "\\end{equation}\n",
        "\n",
        "Para una señal exponencial compleja como entrada $x(t)=e^{st}$, la salida de un SLIT se cálcula como $y(t)=\\mathscr{H} \\{e^{st}\\}=H(s)\\cdot e^{st}$.\n",
        "\n",
        "Introduciendo ambas señales en la convolución se tiene que:\n",
        "\n",
        "\\begin{equation}\n",
        "H(s) \\cdot e^{st} = \\int_{-\\infty}^{\\infty} e^{st} e^{-s \\tau} \\cdot h(\\tau) \\; d\\tau\n",
        "\\end{equation}\n",
        "\n",
        "Que después de reorganizar los términos resulta en\n",
        "\n",
        "\\begin{equation}\n",
        "H(s) = \\int_{-\\infty}^{\\infty} h(\\tau) \\cdot e^{-s \\tau}  \\; d\\tau\n",
        "\\end{equation}\n",
        "\n",
        "bajo el supuesto de que la integral converge.\n",
        "\n",
        "La función de transferencia $H(s)$ se puede calcular a partir de la respuesta de impulso $h(t)$ mediante la integración de la respuesta de impulso multiplicada por la función exponencial compleja $e^{-st}$.\n",
        "\n",
        "Esto constituye una transformada integral de la respuesta al impulso, la [transformada de Laplace](https://en.wikipedia.org/wiki/Laplace_transform)."
      ]
    },
    {
      "cell_type": "markdown",
      "metadata": {
        "nbsphinx": "hidden",
        "id": "lnyDWU4SvW0T"
      },
      "source": [
        "**Copyright**\n",
        "\n",
        "The notebooks are provided as [Open Educational Resource](https://de.wikipedia.org/wiki/Open_Educational_Resources). Feel free to use the notebooks for your own educational purposes. The text is licensed under [Creative Commons Attribution 4.0](https://creativecommons.org/licenses/by/4.0/), the code of the IPython examples under the [MIT license](https://opensource.org/licenses/MIT). Please attribute the work as follows: *Lecture Notes on Signals and Systems* by Sascha Spors."
      ]
    }
  ]
}