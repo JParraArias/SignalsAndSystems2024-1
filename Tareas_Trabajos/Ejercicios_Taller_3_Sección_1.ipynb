{
  "nbformat": 4,
  "nbformat_minor": 0,
  "metadata": {
    "colab": {
      "provenance": [],
      "authorship_tag": "ABX9TyPKaj2K4fyQTDrOZopj3aTp",
      "include_colab_link": true
    },
    "kernelspec": {
      "name": "python3",
      "display_name": "Python 3"
    },
    "language_info": {
      "name": "python"
    }
  },
  "cells": [
    {
      "cell_type": "markdown",
      "metadata": {
        "id": "view-in-github",
        "colab_type": "text"
      },
      "source": [
        "<a href=\"https://colab.research.google.com/github/JParraArias/SignalsAndSystems2024-1/blob/main/Tareas_Trabajos/Ejercicios_Taller_3_Secci%C3%B3n_1.ipynb\" target=\"_parent\"><img src=\"https://colab.research.google.com/assets/colab-badge.svg\" alt=\"Open In Colab\"/></a>"
      ]
    },
    {
      "cell_type": "markdown",
      "source": [
        "**Encuentre la funcion de transferencia en lazo abierto para\n",
        "un circuito RLC serie (entrada tension de alimentacion - salida\n",
        "tension en el capacitor) y un circuito RCL en paralelo\n",
        "(entrada corriente de alimentacion - salida corriente en el inductor).\n",
        "Nota: tenga en cuenta las condiciones iniciales del\n",
        "sistema segun lo explicado en el material de apoyo Circuito\n",
        "RLC y Analisis de redes electricas.**\n",
        "\n",
        "---"
      ],
      "metadata": {
        "id": "WIrHeOdTJVtV"
      }
    },
    {
      "cell_type": "markdown",
      "source": [
        "**Funciones de Transferencia de Circuitos RLC**\n",
        "\n",
        "**Circuito RLC en Serie (Entrada: Tensión de alimentación, Salida: Tensión en el Capacitor)**\n",
        "\n",
        "El circuito RLC en serie está compuesto por un resistor $ R $, un inductor $ L $, y un capacitor $ C $, conectados en serie. La ecuación diferencial que describe este circuito es:\n",
        "\n",
        "$$\n",
        "V_{in}(t) = V_R(t) + V_L(t) + V_C(t)\n",
        "$$\n",
        "\n",
        "En el dominio de Laplace, aplicamos las siguientes transformaciones para cada elemento:\n",
        "\n",
        "- Resistor: $ V_R(s) = R I(s) $\n",
        "\n",
        "- Inductor: $ V_L(s) = Ls I(s) $\n",
        "\n",
        "- Capacitor: $ V_C(s) = \\frac{1}{Cs} I(s) $\n",
        "\n",
        "Donde $ I(s) $ es la corriente a través del circuito.\n",
        "\n",
        "La ecuación de mallas en el dominio de Laplace se convierte en:\n",
        "\n",
        "$$\n",
        "V_{in}(s) = I(s) \\left( R + Ls + \\frac{1}{Cs} \\right)\n",
        "$$\n",
        "\n",
        "La tensión en el capacitor es $ V_C(s) = \\frac{1}{Cs} I(s)$. Para encontrar la función de transferencia, que es la relación entre la salida $ V_C(s)$ y la entrada $ V_{in}(s)$, hacemos:\n",
        "\n",
        "$$\n",
        "H(s) = \\frac{V_C(s)}{V_{in}(s)} = \\frac{\\frac{1}{Cs}}{R + Ls + \\frac{1}{Cs}}\n",
        "$$\n",
        "\n",
        "Simplificando:\n",
        "\n",
        "$$\n",
        "H(s) = \\frac{1}{(RCs + L2Cs + 1)}\n",
        "$$\n",
        "\n",
        "Esta es la función de transferencia en lazo abierto para el circuito RLC serie, teniendo en cuenta que las condiciones iniciales están en cero.\n",
        "\n",
        "---\n",
        "\n",
        "\n",
        "\n",
        "**Circuito RLC en Paralelo (Entrada: Corriente de alimentación, Salida: Corriente en el Inductor)**\n",
        "\n",
        "El circuito RLC en paralelo está compuesto por un resistor $R$, un inductor $ L $, y un capacitor $C$, conectados en paralelo. En este caso, la entrada es la corriente de alimentación $ I_{in}(s)$ y la salida es la corriente a través del inductor $ I_L(s) $.\n",
        "\n",
        "La corriente total en el circuito es la suma de las corrientes en cada rama:\n",
        "\n",
        "$$\n",
        "I_{in}(s) = I_R(s) + I_C(s) + I_L(s)\n",
        "$$\n",
        "\n",
        "Donde:\n",
        "\n",
        "- $ I_R(s) = \\frac{V(s)}{R}$\n",
        "\n",
        "- $ I_C(s) = Cs V(s)$\n",
        "\n",
        "- $ I_L(s) = \\frac{V(s)}{Ls}$\n",
        "\n",
        "El voltaje \\( V(s) \\) es el mismo para todas las ramas, por lo que podemos escribir:\n",
        "\n",
        "$$\n",
        "I_{in}(s) = V(s) \\left( \\frac{1}{R} + Cs + \\frac{1}{Ls} \\right)\n",
        "$$\n",
        "\n",
        "La corriente en el inductor es $ I_L(s) = \\frac{V(s)}{Ls}$, y la función de transferencia, que es la relación entre la salida $ I_L(s)$ y la entrada $ I_{in}(s) $, es:\n",
        "\n",
        "$$\n",
        "H(s) = \\frac{I_L(s)}{I_{in}(s)} = \\frac{\\frac{1}{Ls}}{\\frac{1}{R} + Cs + \\frac{1}{Ls}}\n",
        "$$\n",
        "\n",
        "Simplificando:\n",
        "\n",
        "$$\n",
        "H(s) = \\frac{1}{Ls\\left( \\frac{1}{R} + Cs + \\frac{1}{Ls} \\right)}\n",
        "$$\n",
        "\n",
        "Esta es la función de transferencia en lazo abierto para el circuito RLC en paralelo.\n"
      ],
      "metadata": {
        "id": "mJffeup_OnLb"
      }
    },
    {
      "cell_type": "code",
      "source": [],
      "metadata": {
        "id": "VyRACViLOkGr"
      },
      "execution_count": null,
      "outputs": []
    }
  ]
}